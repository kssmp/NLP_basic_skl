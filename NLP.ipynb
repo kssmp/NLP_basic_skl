{
  "nbformat": 4,
  "nbformat_minor": 0,
  "metadata": {
    "colab": {
      "provenance": [],
      "authorship_tag": "ABX9TyMpI4ChV2c1/TfJ6tzl2ARN",
      "include_colab_link": true
    },
    "kernelspec": {
      "name": "python3",
      "display_name": "Python 3"
    },
    "language_info": {
      "name": "python"
    }
  },
  "cells": [
    {
      "cell_type": "markdown",
      "metadata": {
        "id": "view-in-github",
        "colab_type": "text"
      },
      "source": [
        "<a href=\"https://colab.research.google.com/github/kssmp/NLP_basic_skl/blob/main/NLP.ipynb\" target=\"_parent\"><img src=\"https://colab.research.google.com/assets/colab-badge.svg\" alt=\"Open In Colab\"/></a>"
      ]
    },
    {
      "cell_type": "markdown",
      "source": [
        "# NLP based on Amazon Reviews\n",
        "\n",
        "Dataset from : http://jmcauley.ucsd.edu/data/amazon/\n"
      ],
      "metadata": {
        "id": "ff7AoIIpN9L7"
      }
    },
    {
      "cell_type": "code",
      "execution_count": null,
      "metadata": {
        "id": "rb6SYzVfG6xl"
      },
      "outputs": [],
      "source": [
        "import numpy as np\n",
        "import pandas as pd\n",
        "import matplotlib.pyplot as plt\n",
        "import random\n",
        "import json"
      ]
    },
    {
      "cell_type": "markdown",
      "source": [
        "##Loading and Cleaning Data"
      ],
      "metadata": {
        "id": "_StlBGQ2TJiM"
      }
    },
    {
      "cell_type": "code",
      "source": [
        "# the books_small file is heavily biased towards positive reviews which is affecting our models thus we are choosing a deeper dataset which is more even for the training dataset to learn\n",
        "#file_name = \"Books_small.json\"\n",
        "file_name = \"Books_small_10000.json\""
      ],
      "metadata": {
        "id": "qJEQB6gvL1T5"
      },
      "execution_count": null,
      "outputs": []
    },
    {
      "cell_type": "code",
      "source": [
        "# Data class\n",
        "class Review:\n",
        "  def __init__(self,text,score):\n",
        "    self.text = text\n",
        "    self.score = score\n",
        "    self.sentiment = self.get_sentiment()\n",
        "\n",
        "  def get_sentiment(self):\n",
        "    if self.score <= 2 :\n",
        "      return Sentiment.NEGATIVE\n",
        "    elif self.score == 3 :\n",
        "      return Sentiment.NEUTRAL\n",
        "    else :\n",
        "      return Sentiment.POSITIVE\n",
        "\n",
        "class Sentiment:\n",
        "  NEGATIVE = \"NEGATIVE\"\n",
        "  POSITIVE = \"POSITIVE\"\n",
        "  NEUTRAL = \"NEUTRAL\"\n",
        "\n",
        "class ReviewContainer:\n",
        "  def __init__ (self,reviews):\n",
        "    self.reviews = reviews\n",
        "\n",
        "  def evenly_distribute(self):\n",
        "    negative = list(filter(lambda x: x.sentiment == Sentiment.NEGATIVE , self.reviews))\n",
        "    positive = list(filter(lambda x: x.sentiment == Sentiment.POSITIVE , self.reviews))\n",
        "    positive_shrunk = positive[:len(negative)]\n",
        "    self.reviews = negative + positive_shrunk\n",
        "    random.shuffle(self.reviews)\n",
        "\n",
        "  def get_text(self):\n",
        "    return [x.text for x in self.reviews]\n",
        "\n",
        "  def get_sentiment(self):\n",
        "    return [x.sentiment for x in self.reviews]"
      ],
      "metadata": {
        "id": "blZFYce_QrRo"
      },
      "execution_count": null,
      "outputs": []
    },
    {
      "cell_type": "code",
      "source": [
        "reviews = []\n",
        "with open(file_name) as f:\n",
        "  for line in f:\n",
        "    review = json.loads(line)\n",
        "    reviews.append(Review(review[\"reviewText\"],review[\"overall\"]))\n",
        "\n",
        "#.text||.sentiment||.score"
      ],
      "metadata": {
        "id": "9eHavnIsOsP0"
      },
      "execution_count": null,
      "outputs": []
    },
    {
      "cell_type": "code",
      "source": [
        "reviews[5].score"
      ],
      "metadata": {
        "colab": {
          "base_uri": "https://localhost:8080/"
        },
        "id": "MXykdeyUQjK7",
        "outputId": "d94395a9-69cd-49aa-ff31-a136d03bcfb9"
      },
      "execution_count": null,
      "outputs": [
        {
          "output_type": "execute_result",
          "data": {
            "text/plain": [
              "5.0"
            ]
          },
          "metadata": {},
          "execution_count": 5
        }
      ]
    },
    {
      "cell_type": "markdown",
      "source": [
        "## Splitting Data into training and testing datasets"
      ],
      "metadata": {
        "id": "VE-vkFcdTeVe"
      }
    },
    {
      "cell_type": "code",
      "source": [
        "from sklearn.model_selection import train_test_split"
      ],
      "metadata": {
        "id": "PerDtISvSTQ3"
      },
      "execution_count": null,
      "outputs": []
    },
    {
      "cell_type": "code",
      "source": [
        "training , test = train_test_split(reviews, test_size = 0.33, random_state=42)\n",
        "\n",
        "train_container = ReviewContainer(training)\n",
        "test_container = ReviewContainer(test)\n",
        "\n",
        "print(len(training),len(test))"
      ],
      "metadata": {
        "colab": {
          "base_uri": "https://localhost:8080/"
        },
        "id": "-i8qhCzfTayZ",
        "outputId": "d0477fc1-3a14-4d58-eddf-5708147d0bb1"
      },
      "execution_count": null,
      "outputs": [
        {
          "output_type": "stream",
          "name": "stdout",
          "text": [
            "6700 3300\n"
          ]
        }
      ]
    },
    {
      "cell_type": "code",
      "source": [
        "train_container.evenly_distribute()\n",
        "\n",
        "train_x = train_container.get_text()\n",
        "train_y = train_container.get_sentiment()\n",
        "\n",
        "test_container.evenly_distribute()\n",
        "test_x = test_container.get_text()\n",
        "test_y = test_container.get_sentiment()"
      ],
      "metadata": {
        "id": "H-_y2L3qT64X"
      },
      "execution_count": null,
      "outputs": []
    },
    {
      "cell_type": "markdown",
      "source": [
        "## Bag of Words Vectorization"
      ],
      "metadata": {
        "id": "Yt9VQLuqVmM0"
      }
    },
    {
      "cell_type": "code",
      "source": [
        "# Bag of Words in order to convert text into a computer friendly numerical feature vectors\n",
        "\n",
        "from sklearn.feature_extraction.text import CountVectorizer\n",
        "#vectorizer = CountVectorizer()\n",
        "\n",
        "#Countvectorizer weighs all the words equally in a sentence so \"This\" and \"amazing\" hold the same value but while calculating the sentiment attached to the sentence this fails us\n",
        "#Instead we use Term Frequency Inverse Document Frequency whihc gives us weighted values for the words i.e depends on how many times a word has been used => low importance word\n",
        "\n",
        "from sklearn.feature_extraction.text import TfidfVectorizer\n",
        "vectorizer = TfidfVectorizer()\n",
        "\n",
        "train_x_vector = vectorizer.fit_transform(train_x)\n",
        "test_x_vector = vectorizer.transform(test_x)\n"
      ],
      "metadata": {
        "id": "RAVqGML2UnF-"
      },
      "execution_count": null,
      "outputs": []
    },
    {
      "cell_type": "markdown",
      "source": [
        "## Classification and Different possible models"
      ],
      "metadata": {
        "id": "mkSUorPPWxp6"
      }
    },
    {
      "cell_type": "markdown",
      "source": [
        "####Linear SVM"
      ],
      "metadata": {
        "id": "vIXvxiD1YGnV"
      }
    },
    {
      "cell_type": "code",
      "source": [
        "from sklearn import svm\n",
        "\n",
        "clf_svm = svm.SVC(kernel=\"linear\")\n",
        "clf_svm.fit(train_x_vector,train_y)\n",
        "\n",
        "clf_svm.predict(test_x_vector[0])"
      ],
      "metadata": {
        "colab": {
          "base_uri": "https://localhost:8080/"
        },
        "id": "SXYxuEy7VEQ8",
        "outputId": "77dcf59a-6330-463e-f534-53676523b7a6"
      },
      "execution_count": null,
      "outputs": [
        {
          "output_type": "execute_result",
          "data": {
            "text/plain": [
              "array(['NEGATIVE'], dtype='<U8')"
            ]
          },
          "metadata": {},
          "execution_count": 10
        }
      ]
    },
    {
      "cell_type": "markdown",
      "source": [
        "####  Decision Tree"
      ],
      "metadata": {
        "id": "Ky5tJ4FWYLB1"
      }
    },
    {
      "cell_type": "code",
      "source": [
        "from sklearn.tree import DecisionTreeClassifier\n",
        "\n",
        "clf_dec = DecisionTreeClassifier()\n",
        "clf_dec.fit(train_x_vector,train_y)\n",
        "\n",
        "clf_dec.predict(test_x_vector[0])\n"
      ],
      "metadata": {
        "colab": {
          "base_uri": "https://localhost:8080/"
        },
        "id": "en-c-Q9PXHPe",
        "outputId": "3aaa1418-5b88-4755-9fd6-2d27deb94f76"
      },
      "execution_count": null,
      "outputs": [
        {
          "output_type": "execute_result",
          "data": {
            "text/plain": [
              "array(['NEGATIVE'], dtype='<U8')"
            ]
          },
          "metadata": {},
          "execution_count": 11
        }
      ]
    },
    {
      "cell_type": "markdown",
      "source": [
        "#### Naive Bayes"
      ],
      "metadata": {
        "id": "mO-3j6tkYl0s"
      }
    },
    {
      "cell_type": "code",
      "source": [
        "from sklearn.naive_bayes import GaussianNB\n",
        "\n",
        "clf_gnb = GaussianNB()\n",
        "clf_gnb.fit(train_x_vector.toarray(),train_y)\n",
        "\n",
        "clf_gnb.predict(test_x_vector[0].toarray())"
      ],
      "metadata": {
        "colab": {
          "base_uri": "https://localhost:8080/"
        },
        "id": "5byn4jYIYV-_",
        "outputId": "c8b9ef77-6ef1-4ce6-e8ac-9a7d67845e59"
      },
      "execution_count": null,
      "outputs": [
        {
          "output_type": "execute_result",
          "data": {
            "text/plain": [
              "array(['NEGATIVE'], dtype='<U8')"
            ]
          },
          "metadata": {},
          "execution_count": 12
        }
      ]
    },
    {
      "cell_type": "markdown",
      "source": [
        "#### Logistic Regression"
      ],
      "metadata": {
        "id": "5Xw_mlQraxkA"
      }
    },
    {
      "cell_type": "code",
      "source": [
        "from sklearn.linear_model import LogisticRegression\n",
        "\n",
        "clf_logreg = LogisticRegression()\n",
        "clf_logreg.fit(train_x_vector,train_y)\n",
        "\n",
        "clf_logreg.predict(test_x_vector[0])\n"
      ],
      "metadata": {
        "colab": {
          "base_uri": "https://localhost:8080/"
        },
        "id": "OK2SPJkjYzWX",
        "outputId": "f444ca9f-d625-41b0-8186-2fe4cd611e4d"
      },
      "execution_count": null,
      "outputs": [
        {
          "output_type": "execute_result",
          "data": {
            "text/plain": [
              "array(['NEGATIVE'], dtype='<U8')"
            ]
          },
          "metadata": {},
          "execution_count": 13
        }
      ]
    },
    {
      "cell_type": "markdown",
      "source": [
        "##Evaluation"
      ],
      "metadata": {
        "id": "HrNvWt3BbIXf"
      }
    },
    {
      "cell_type": "code",
      "source": [
        "# Mean Accuracy\n",
        "print(clf_svm.score(test_x_vector,test_y))\n",
        "print(clf_dec.score(test_x_vector,test_y))\n",
        "print(clf_gnb.score(test_x_vector.toarray(),test_y))\n",
        "print(clf_logreg.score(test_x_vector,test_y))"
      ],
      "metadata": {
        "colab": {
          "base_uri": "https://localhost:8080/"
        },
        "id": "-YlbnNV_bDXM",
        "outputId": "2a0cff38-0a80-4e41-8c2f-fe4c7e4ff64a"
      },
      "execution_count": null,
      "outputs": [
        {
          "output_type": "stream",
          "name": "stdout",
          "text": [
            "0.8076923076923077\n",
            "0.6177884615384616\n",
            "0.6610576923076923\n",
            "0.8052884615384616\n"
          ]
        }
      ]
    },
    {
      "cell_type": "code",
      "source": [
        "from sklearn.metrics import f1_score\n",
        "\n",
        "f1_score(test_y,clf_svm.predict(test_x_vector),average=None, labels = [Sentiment.POSITIVE , Sentiment.NEGATIVE])"
      ],
      "metadata": {
        "colab": {
          "base_uri": "https://localhost:8080/"
        },
        "id": "kjB7yTBVblQE",
        "outputId": "726f4a16-9ec1-4e56-d59f-3fc17839ac9a"
      },
      "execution_count": null,
      "outputs": [
        {
          "output_type": "execute_result",
          "data": {
            "text/plain": [
              "array([0.80582524, 0.80952381])"
            ]
          },
          "metadata": {},
          "execution_count": 15
        }
      ]
    },
    {
      "cell_type": "markdown",
      "source": [
        "## Tuning Model using Grid Search"
      ],
      "metadata": {
        "id": "adGGGGqhlLFf"
      }
    },
    {
      "cell_type": "code",
      "source": [
        "from sklearn.model_selection import GridSearchCV\n",
        "\n",
        "parameters = {'kernel':('linear','rbf'),'C':(1,4,8,16,32)}\n",
        "\n",
        "svc = svm.SVC()\n",
        "clf = GridSearchCV(svc,parameters,cv=5)\n",
        "clf.fit(train_x_vector,train_y)"
      ],
      "metadata": {
        "colab": {
          "base_uri": "https://localhost:8080/",
          "height": 118
        },
        "id": "QVrIYh_Ldd6M",
        "outputId": "3ef564fc-d945-4159-820c-890d4abbfca9"
      },
      "execution_count": null,
      "outputs": [
        {
          "output_type": "execute_result",
          "data": {
            "text/plain": [
              "GridSearchCV(cv=5, estimator=SVC(),\n",
              "             param_grid={'C': (1, 4, 8, 16, 32), 'kernel': ('linear', 'rbf')})"
            ],
            "text/html": [
              "<style>#sk-container-id-1 {color: black;background-color: white;}#sk-container-id-1 pre{padding: 0;}#sk-container-id-1 div.sk-toggleable {background-color: white;}#sk-container-id-1 label.sk-toggleable__label {cursor: pointer;display: block;width: 100%;margin-bottom: 0;padding: 0.3em;box-sizing: border-box;text-align: center;}#sk-container-id-1 label.sk-toggleable__label-arrow:before {content: \"▸\";float: left;margin-right: 0.25em;color: #696969;}#sk-container-id-1 label.sk-toggleable__label-arrow:hover:before {color: black;}#sk-container-id-1 div.sk-estimator:hover label.sk-toggleable__label-arrow:before {color: black;}#sk-container-id-1 div.sk-toggleable__content {max-height: 0;max-width: 0;overflow: hidden;text-align: left;background-color: #f0f8ff;}#sk-container-id-1 div.sk-toggleable__content pre {margin: 0.2em;color: black;border-radius: 0.25em;background-color: #f0f8ff;}#sk-container-id-1 input.sk-toggleable__control:checked~div.sk-toggleable__content {max-height: 200px;max-width: 100%;overflow: auto;}#sk-container-id-1 input.sk-toggleable__control:checked~label.sk-toggleable__label-arrow:before {content: \"▾\";}#sk-container-id-1 div.sk-estimator input.sk-toggleable__control:checked~label.sk-toggleable__label {background-color: #d4ebff;}#sk-container-id-1 div.sk-label input.sk-toggleable__control:checked~label.sk-toggleable__label {background-color: #d4ebff;}#sk-container-id-1 input.sk-hidden--visually {border: 0;clip: rect(1px 1px 1px 1px);clip: rect(1px, 1px, 1px, 1px);height: 1px;margin: -1px;overflow: hidden;padding: 0;position: absolute;width: 1px;}#sk-container-id-1 div.sk-estimator {font-family: monospace;background-color: #f0f8ff;border: 1px dotted black;border-radius: 0.25em;box-sizing: border-box;margin-bottom: 0.5em;}#sk-container-id-1 div.sk-estimator:hover {background-color: #d4ebff;}#sk-container-id-1 div.sk-parallel-item::after {content: \"\";width: 100%;border-bottom: 1px solid gray;flex-grow: 1;}#sk-container-id-1 div.sk-label:hover label.sk-toggleable__label {background-color: #d4ebff;}#sk-container-id-1 div.sk-serial::before {content: \"\";position: absolute;border-left: 1px solid gray;box-sizing: border-box;top: 0;bottom: 0;left: 50%;z-index: 0;}#sk-container-id-1 div.sk-serial {display: flex;flex-direction: column;align-items: center;background-color: white;padding-right: 0.2em;padding-left: 0.2em;position: relative;}#sk-container-id-1 div.sk-item {position: relative;z-index: 1;}#sk-container-id-1 div.sk-parallel {display: flex;align-items: stretch;justify-content: center;background-color: white;position: relative;}#sk-container-id-1 div.sk-item::before, #sk-container-id-1 div.sk-parallel-item::before {content: \"\";position: absolute;border-left: 1px solid gray;box-sizing: border-box;top: 0;bottom: 0;left: 50%;z-index: -1;}#sk-container-id-1 div.sk-parallel-item {display: flex;flex-direction: column;z-index: 1;position: relative;background-color: white;}#sk-container-id-1 div.sk-parallel-item:first-child::after {align-self: flex-end;width: 50%;}#sk-container-id-1 div.sk-parallel-item:last-child::after {align-self: flex-start;width: 50%;}#sk-container-id-1 div.sk-parallel-item:only-child::after {width: 0;}#sk-container-id-1 div.sk-dashed-wrapped {border: 1px dashed gray;margin: 0 0.4em 0.5em 0.4em;box-sizing: border-box;padding-bottom: 0.4em;background-color: white;}#sk-container-id-1 div.sk-label label {font-family: monospace;font-weight: bold;display: inline-block;line-height: 1.2em;}#sk-container-id-1 div.sk-label-container {text-align: center;}#sk-container-id-1 div.sk-container {/* jupyter's `normalize.less` sets `[hidden] { display: none; }` but bootstrap.min.css set `[hidden] { display: none !important; }` so we also need the `!important` here to be able to override the default hidden behavior on the sphinx rendered scikit-learn.org. See: https://github.com/scikit-learn/scikit-learn/issues/21755 */display: inline-block !important;position: relative;}#sk-container-id-1 div.sk-text-repr-fallback {display: none;}</style><div id=\"sk-container-id-1\" class=\"sk-top-container\"><div class=\"sk-text-repr-fallback\"><pre>GridSearchCV(cv=5, estimator=SVC(),\n",
              "             param_grid={&#x27;C&#x27;: (1, 4, 8, 16, 32), &#x27;kernel&#x27;: (&#x27;linear&#x27;, &#x27;rbf&#x27;)})</pre><b>In a Jupyter environment, please rerun this cell to show the HTML representation or trust the notebook. <br />On GitHub, the HTML representation is unable to render, please try loading this page with nbviewer.org.</b></div><div class=\"sk-container\" hidden><div class=\"sk-item sk-dashed-wrapped\"><div class=\"sk-label-container\"><div class=\"sk-label sk-toggleable\"><input class=\"sk-toggleable__control sk-hidden--visually\" id=\"sk-estimator-id-1\" type=\"checkbox\" ><label for=\"sk-estimator-id-1\" class=\"sk-toggleable__label sk-toggleable__label-arrow\">GridSearchCV</label><div class=\"sk-toggleable__content\"><pre>GridSearchCV(cv=5, estimator=SVC(),\n",
              "             param_grid={&#x27;C&#x27;: (1, 4, 8, 16, 32), &#x27;kernel&#x27;: (&#x27;linear&#x27;, &#x27;rbf&#x27;)})</pre></div></div></div><div class=\"sk-parallel\"><div class=\"sk-parallel-item\"><div class=\"sk-item\"><div class=\"sk-label-container\"><div class=\"sk-label sk-toggleable\"><input class=\"sk-toggleable__control sk-hidden--visually\" id=\"sk-estimator-id-2\" type=\"checkbox\" ><label for=\"sk-estimator-id-2\" class=\"sk-toggleable__label sk-toggleable__label-arrow\">estimator: SVC</label><div class=\"sk-toggleable__content\"><pre>SVC()</pre></div></div></div><div class=\"sk-serial\"><div class=\"sk-item\"><div class=\"sk-estimator sk-toggleable\"><input class=\"sk-toggleable__control sk-hidden--visually\" id=\"sk-estimator-id-3\" type=\"checkbox\" ><label for=\"sk-estimator-id-3\" class=\"sk-toggleable__label sk-toggleable__label-arrow\">SVC</label><div class=\"sk-toggleable__content\"><pre>SVC()</pre></div></div></div></div></div></div></div></div></div></div>"
            ]
          },
          "metadata": {},
          "execution_count": 16
        }
      ]
    },
    {
      "cell_type": "markdown",
      "source": [
        "## Saving Model"
      ],
      "metadata": {
        "id": "hdlqnT6XmoQ6"
      }
    },
    {
      "cell_type": "code",
      "source": [
        "import pickle"
      ],
      "metadata": {
        "id": "njSOgRtJl3ri"
      },
      "execution_count": null,
      "outputs": []
    },
    {
      "cell_type": "code",
      "source": [
        "with open('./classifier.pkl','wb') as f:\n",
        "  pickle.dump(clf,f)"
      ],
      "metadata": {
        "id": "EDxy8RcRm3Qe"
      },
      "execution_count": null,
      "outputs": []
    },
    {
      "cell_type": "code",
      "source": [
        "with open('./classifier.pkl','rb') as f:\n",
        "  loaded_clf = pickle.load(f)"
      ],
      "metadata": {
        "id": "BRBcH87cnalN"
      },
      "execution_count": null,
      "outputs": []
    },
    {
      "cell_type": "code",
      "source": [
        "test_set = [\"Data science is very interesting\"]"
      ],
      "metadata": {
        "id": "ryU44Z8QrDyK"
      },
      "execution_count": null,
      "outputs": []
    },
    {
      "cell_type": "code",
      "source": [
        "clf.predict(vectorizer.transform(test_set))"
      ],
      "metadata": {
        "colab": {
          "base_uri": "https://localhost:8080/"
        },
        "id": "sFAD9Ur3r4BK",
        "outputId": "0f179bdf-b802-46fe-9399-0901264df4eb"
      },
      "execution_count": null,
      "outputs": [
        {
          "output_type": "execute_result",
          "data": {
            "text/plain": [
              "array(['POSITIVE'], dtype='<U8')"
            ]
          },
          "metadata": {},
          "execution_count": 31
        }
      ]
    },
    {
      "cell_type": "code",
      "source": [],
      "metadata": {
        "id": "lHSageJ-r9N9"
      },
      "execution_count": null,
      "outputs": []
    }
  ]
}